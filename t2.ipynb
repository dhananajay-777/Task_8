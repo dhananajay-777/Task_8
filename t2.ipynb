{
 "cells": [
  {
   "cell_type": "code",
   "execution_count": 12,
   "metadata": {},
   "outputs": [
    {
     "name": "stdout",
     "output_type": "stream",
     "text": [
      "Note: you may need to restart the kernel to use updated packages.Collecting textblob\n",
      "  Downloading textblob-0.17.1-py2.py3-none-any.whl (636 kB)\n",
      "     -------------------------------------- 636.8/636.8 kB 4.4 MB/s eta 0:00:00\n",
      "Requirement already satisfied: nltk>=3.1 in c:\\users\\dhana\\appdata\\local\\packages\\pythonsoftwarefoundation.python.3.10_qbz5n2kfra8p0\\localcache\\local-packages\\python310\\site-packages (from textblob) (3.8.1)\n",
      "Requirement already satisfied: joblib in c:\\users\\dhana\\appdata\\local\\packages\\pythonsoftwarefoundation.python.3.10_qbz5n2kfra8p0\\localcache\\local-packages\\python310\\site-packages (from nltk>=3.1->textblob) (1.2.0)\n",
      "Requirement already satisfied: regex>=2021.8.3 in c:\\users\\dhana\\appdata\\local\\packages\\pythonsoftwarefoundation.python.3.10_qbz5n2kfra8p0\\localcache\\local-packages\\python310\\site-packages (from nltk>=3.1->textblob) (2022.10.31)\n",
      "Requirement already satisfied: click in c:\\users\\dhana\\appdata\\local\\packages\\pythonsoftwarefoundation.python.3.10_qbz5n2kfra8p0\\localcache\\local-packages\\python310\\site-packages (from nltk>=3.1->textblob) (8.1.3)\n",
      "Requirement already satisfied: tqdm in c:\\users\\dhana\\appdata\\local\\packages\\pythonsoftwarefoundation.python.3.10_qbz5n2kfra8p0\\localcache\\local-packages\\python310\\site-packages (from nltk>=3.1->textblob) (4.64.1)\n",
      "Requirement already satisfied: colorama in c:\\users\\dhana\\appdata\\local\\packages\\pythonsoftwarefoundation.python.3.10_qbz5n2kfra8p0\\localcache\\local-packages\\python310\\site-packages (from click->nltk>=3.1->textblob) (0.4.6)\n",
      "Installing collected packages: textblob\n",
      "Successfully installed textblob-0.17.1\n",
      "\n"
     ]
    },
    {
     "name": "stderr",
     "output_type": "stream",
     "text": [
      "WARNING: Ignoring invalid distribution -ip (c:\\users\\dhana\\appdata\\local\\packages\\pythonsoftwarefoundation.python.3.10_qbz5n2kfra8p0\\localcache\\local-packages\\python310\\site-packages)\n",
      "WARNING: Ignoring invalid distribution -ip (c:\\users\\dhana\\appdata\\local\\packages\\pythonsoftwarefoundation.python.3.10_qbz5n2kfra8p0\\localcache\\local-packages\\python310\\site-packages)\n",
      "WARNING: Ignoring invalid distribution -ip (c:\\users\\dhana\\appdata\\local\\packages\\pythonsoftwarefoundation.python.3.10_qbz5n2kfra8p0\\localcache\\local-packages\\python310\\site-packages)\n",
      "WARNING: Ignoring invalid distribution -ip (c:\\users\\dhana\\appdata\\local\\packages\\pythonsoftwarefoundation.python.3.10_qbz5n2kfra8p0\\localcache\\local-packages\\python310\\site-packages)\n",
      "WARNING: Ignoring invalid distribution -ip (c:\\users\\dhana\\appdata\\local\\packages\\pythonsoftwarefoundation.python.3.10_qbz5n2kfra8p0\\localcache\\local-packages\\python310\\site-packages)\n",
      "WARNING: Ignoring invalid distribution -ip (c:\\users\\dhana\\appdata\\local\\packages\\pythonsoftwarefoundation.python.3.10_qbz5n2kfra8p0\\localcache\\local-packages\\python310\\site-packages)\n",
      "WARNING: Ignoring invalid distribution -ip (c:\\users\\dhana\\appdata\\local\\packages\\pythonsoftwarefoundation.python.3.10_qbz5n2kfra8p0\\localcache\\local-packages\\python310\\site-packages)\n"
     ]
    }
   ],
   "source": [
    "pip install textblob"
   ]
  },
  {
   "cell_type": "code",
   "execution_count": 89,
   "metadata": {},
   "outputs": [
    {
     "name": "stdout",
     "output_type": "stream",
     "text": [
      "27\n"
     ]
    }
   ],
   "source": [
    "from textblob import TextBlob\n",
    "data=['Aple','corect','mailmen','I am from garmany','Preice of oil os 70 dolar','witM','tasmanian emergency department wait times orwst in conutyr','man crhaged with murder of tomhas oconenll',\n",
    "      'disabilities funding Reql eMws blame game',\n",
    "      'optus waits for formal respnsoe on hpnoe wtoer',\n",
    "      'receding flodd water lSaCes layer of sludge',\n",
    "      'jdoyqce caelbls on qld to fix Rsugaar dispute audio',\n",
    "      'a food consultant Zays farKerZ invesriGg in the',\n",
    "      'ten to ocnetst palestinian leectoins',\n",
    "      'guy ugrde not to intervene in ohsuing develpoemnt',\n",
    "      'consution',\n",
    "      'consitution',\n",
    "      'skil',\n",
    "      'war is not geed for liefv'\n",
    "      'union FowQ fight to sXde ion IobE',\n",
    "      'the will poweer is the grat gifet in life',\n",
    "      'no susbtantila change in hsopiatl wiatign times',\n",
    "      'briefed deno ,igrayion amendments',\n",
    "      'japan cut gur eesk retrial in subway gas attack',\n",
    "      'Lheasaht',\n",
    "      'hunregs',\n",
    "      'mexican lwaeyr oepsn harry potter collection to public',\n",
    "      'police rdpo all chagrse over girls hit and run',\n",
    "      'feberal',\n",
    "      'psysical',\n",
    "      'pandana',\n",
    "      'Pexel',\n",
    "      'gaylexy'\n",
    "       ]\n",
    "print(len(data))"
   ]
  },
  {
   "cell_type": "code",
   "execution_count": 94,
   "metadata": {},
   "outputs": [
    {
     "name": "stdout",
     "output_type": "stream",
     "text": [
      "gallery\n"
     ]
    }
   ],
   "source": [
    "sentence = TextBlob('gaylexy')\n",
    "result = sentence.correct()\n",
    "print(result)"
   ]
  },
  {
   "cell_type": "code",
   "execution_count": 77,
   "metadata": {},
   "outputs": [
    {
     "name": "stdout",
     "output_type": "stream",
     "text": [
      "Able\n",
      "correct\n",
      "maiden\n",
      "I am from germany\n",
      "Price of oil os 70 dollar\n",
      "with\n",
      "tasmanian emergency department wait times rest in country\n",
      "man changed with murder of thomas oconenll\n",
      "disabilities funding Well eyes blame game\n",
      "pus waits for formal response on honor other\n",
      "receding flood water leaves layer of smudge\n",
      "jdoyqce cells on old to fix Sugar dispute audit\n",
      "a food consultant Days farmers investing in the\n",
      "ten to contest palestinian elections\n",
      "guy agree not to intervene in issuing development\n",
      "condition\n",
      "constitution\n",
      "skin\n",
      "war is not need for liefvunion now fight to side ion sobs\n",
      "the will power is the great gift in life\n",
      "no substantial change in hospital waiting times\n"
     ]
    }
   ],
   "source": [
    "for s1 in data:\n",
    "    sentence = TextBlob(s1)\n",
    "    result = sentence.correct()\n",
    "    print(result)"
   ]
  }
 ],
 "metadata": {
  "kernelspec": {
   "display_name": "Python 3",
   "language": "python",
   "name": "python3"
  },
  "language_info": {
   "codemirror_mode": {
    "name": "ipython",
    "version": 3
   },
   "file_extension": ".py",
   "mimetype": "text/x-python",
   "name": "python",
   "nbconvert_exporter": "python",
   "pygments_lexer": "ipython3",
   "version": "3.10.10"
  },
  "orig_nbformat": 4,
  "vscode": {
   "interpreter": {
    "hash": "78205b1b5f87c79fbdc796b1d90a9b4c2b4e460cd0193ed573d48cc3cc88d394"
   }
  }
 },
 "nbformat": 4,
 "nbformat_minor": 2
}
